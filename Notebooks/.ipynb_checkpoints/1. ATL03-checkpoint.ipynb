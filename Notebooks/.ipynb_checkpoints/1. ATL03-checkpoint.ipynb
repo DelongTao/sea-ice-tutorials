{
 "cells": [
  {
   "cell_type": "markdown",
   "metadata": {},
   "source": [
    "# Exploring photon heights with ICESat-2 (ATL03)\n",
    "\n",
    "Information obtained primarily from the ATL03 Algorithm Theoretical Basis Document (ATBD, Neumann et al., 2019) and the NSIDC product description page: https://nsidc.org/data/atl03.   \n",
    "\n",
    "* Notebook author: Alek Petty (relying extensively on the ATBD and product description)    \n",
    "* Description: Notebook describing the ICESat-2 ATL03 product.   \n",
    "* Input requirements: Any example ATL03 data file.   \n",
    "* Date: June 2019\n",
    "* More info: See the ATL03 Algorithm Theoretical Basis Document (ATBD): https://icesat-2.gsfc.nasa.gov/sites/default/files/page_files/ICESat2_ATL03_ATBD_r001.pdf and the known issues document: https://nsidc.org/sites/nsidc.org/files/technical-references/ATL03_Known_Issues_May2019.pdf\n",
    "\n",
    "## Notebook objectives\n",
    "* General understanding of the data included in a typical ATL03 file.\n",
    "* Reading in, plotting and basic analysis of ATL03 data.\n",
    "* What we can learn from ATL03 to derive the ATL07 surface height segments!\n"
   ]
  },
  {
   "cell_type": "markdown",
   "metadata": {},
   "source": [
    "## Notebook instructions\n",
    "1. Follow along with the notebook tutorial. \n",
    "2. Play around changing options and re-running the relevant notebook cells. \n",
    "\n",
    "Here I use the hdf5 ATL03 file obtained from: https://nsidc.org/data/atl03. See the NSIDC tutorial for more information on generating granules of data to use in this tutorial.   \n",
    "For the demo below I'm using the file: ATL03_20181115022655_07250104_001_01.h5   \n",
    "If using this using the ICESat-2 Pangeo instance, you can download the file using the cell below\n"
   ]
  },
  {
   "cell_type": "code",
   "execution_count": 1,
   "metadata": {},
   "outputs": [],
   "source": [
    "#Magic function to enable interactive plotting in Jupyter notebook\n",
    "#Allows you to zoom/pan within plots after generating\n",
    "#Normally, this would be %matplotlib notebook, but since we're using Juptyerlab, we need a different widget\n",
    "#%matplotlib notebook\n",
    "%matplotlib inline"
   ]
  },
  {
   "cell_type": "code",
   "execution_count": 2,
   "metadata": {},
   "outputs": [],
   "source": [
    "#Import necesary modules\n",
    "#Use shorter names (np, pd, plt) instead of full (numpy, pandas, matplotlib.pylot) for convenience\n",
    "import numpy as np\n",
    "import pandas as pd\n",
    "import datetime as dt\n",
    "import matplotlib.pyplot as plt\n",
    "import cartopy.crs as ccrs\n",
    "#import seaborn as sns\n",
    "import pandas as pd\n",
    "import h5py  \n",
    "import s3fs\n",
    "import readers as rd\n",
    "# Use seasborn for nicer looking inline plots\n",
    "#sns.set(context='notebook', style='darkgrid')\n",
    "#st = axes_style(\"whitegrid\")"
   ]
  },
  {
   "cell_type": "code",
   "execution_count": 3,
   "metadata": {},
   "outputs": [],
   "source": [
    "# If data file is stored locally (already grabbed from S3) uncomment the following lines and comment out the below S3 example..\n",
    "#file_path = '../Data/'\n",
    "#ATL03_filename = 'ATL03_20181115022655_07250104_001_01.h5'\n",
    "#localPath = file_path + ATL03_filename\n",
    "\n",
    "beamStr='gt1r'"
   ]
  },
  {
   "cell_type": "code",
   "execution_count": 4,
   "metadata": {},
   "outputs": [
    {
     "name": "stdout",
     "output_type": "stream",
     "text": [
      "['pangeo-data-upload-oregon/icesat2/ATL03_20181115022655_07250104_001_01.h5', 'pangeo-data-upload-oregon/icesat2/ATL07-01_20181115003141_07240101_001_01.h5', 'pangeo-data-upload-oregon/icesat2/readme.txt', 'pangeo-data-upload-oregon/icesat2/Clouds_and_filtering_tutorial', 'pangeo-data-upload-oregon/icesat2/atl03', 'pangeo-data-upload-oregon/icesat2/atl06', 'pangeo-data-upload-oregon/icesat2/data-access-outputs', 'pangeo-data-upload-oregon/icesat2/data-access-subsetted-outputs', 'pangeo-data-upload-oregon/icesat2/data-access-subsettedoutputs', 'pangeo-data-upload-oregon/icesat2/pine_island_glims']\n"
     ]
    },
    {
     "data": {
      "text/plain": [
       "'../Data/ATL03_20181115022655_07250104_001_01.h5'"
      ]
     },
     "execution_count": 4,
     "metadata": {},
     "output_type": "execute_result"
    }
   ],
   "source": [
    "# If running on Pangeo instance you can greab data directly from Amazon S3 like so\n",
    "# Comment out the last command if you've already got the data in the Data dir\n",
    "bucket = 'pangeo-data-upload-oregon'\n",
    "fs = s3fs.S3FileSystem()\n",
    "dataDir = 'pangeo-data-upload-oregon/icesat2/'\n",
    "s3List = fs.ls(dataDir)\n",
    "print(s3List)\n",
    "ATL03file='ATL03_20181115022655_07250104_001_01.h5'\n",
    "s3File='pangeo-data-upload-oregon/icesat2/'+ATL03file\n",
    "localFilePath='../Data/'+ATL03file\n",
    "#fs.get(s3File, localFilePath)\n",
    "localFilePath"
   ]
  },
  {
   "cell_type": "code",
   "execution_count": 5,
   "metadata": {},
   "outputs": [],
   "source": [
    "#dF03=rd.getATL03data(localFilePath, beam=beamStr)\n",
    "#dF03.head(5)"
   ]
  },
  {
   "cell_type": "code",
   "execution_count": 6,
   "metadata": {},
   "outputs": [
    {
     "name": "stdout",
     "output_type": "stream",
     "text": [
      "(4699046,)\n",
      "(4699046,)\n"
     ]
    },
    {
     "ename": "KeyError",
     "evalue": "\"Unable to open object (object 'photon_rate' doesn't exist)\"",
     "output_type": "error",
     "traceback": [
      "\u001b[0;31m---------------------------------------------------------------------------\u001b[0m",
      "\u001b[0;31mKeyError\u001b[0m                                  Traceback (most recent call last)",
      "\u001b[0;32m<ipython-input-6-419f7a1b25c4>\u001b[0m in \u001b[0;36m<module>\u001b[0;34m\u001b[0m\n\u001b[1;32m      1\u001b[0m \u001b[0;31m# Read in the data using the pandas reader in readers.py and take a look at the top few rows (change the number in head to increase this..\u001b[0m\u001b[0;34m\u001b[0m\u001b[0;34m\u001b[0m\u001b[0;34m\u001b[0m\u001b[0m\n\u001b[1;32m      2\u001b[0m \u001b[0;34m\u001b[0m\u001b[0m\n\u001b[0;32m----> 3\u001b[0;31m \u001b[0mdF03\u001b[0m\u001b[0;34m=\u001b[0m \u001b[0mrd\u001b[0m\u001b[0;34m.\u001b[0m\u001b[0mgetATL03data\u001b[0m\u001b[0;34m(\u001b[0m\u001b[0mlocalFilePath\u001b[0m\u001b[0;34m,\u001b[0m \u001b[0mbeamStr\u001b[0m\u001b[0;34m)\u001b[0m\u001b[0;34m\u001b[0m\u001b[0;34m\u001b[0m\u001b[0m\n\u001b[0m\u001b[1;32m      4\u001b[0m \u001b[0mdF03\u001b[0m\u001b[0;34m.\u001b[0m\u001b[0mhead\u001b[0m\u001b[0;34m(\u001b[0m\u001b[0;36m5\u001b[0m\u001b[0;34m)\u001b[0m\u001b[0;34m\u001b[0m\u001b[0;34m\u001b[0m\u001b[0m\n",
      "\u001b[0;32m~/sea-ice-tutorials/Notebooks/readers.py\u001b[0m in \u001b[0;36mgetATL03data\u001b[0;34m(fileT, numpyout, beam)\u001b[0m\n\u001b[1;32m     78\u001b[0m     \u001b[0mprint\u001b[0m\u001b[0;34m(\u001b[0m\u001b[0msignal_confidence\u001b[0m\u001b[0;34m.\u001b[0m\u001b[0mshape\u001b[0m\u001b[0;34m)\u001b[0m\u001b[0;34m\u001b[0m\u001b[0;34m\u001b[0m\u001b[0m\n\u001b[1;32m     79\u001b[0m \u001b[0;34m\u001b[0m\u001b[0m\n\u001b[0;32m---> 80\u001b[0;31m     \u001b[0mphoton_rate\u001b[0m\u001b[0;34m=\u001b[0m\u001b[0mATL03\u001b[0m\u001b[0;34m[\u001b[0m\u001b[0mbeam\u001b[0m\u001b[0;34m+\u001b[0m\u001b[0;34m'/heights/photon_rate'\u001b[0m\u001b[0;34m]\u001b[0m\u001b[0;34m[\u001b[0m\u001b[0;34m:\u001b[0m\u001b[0;34m]\u001b[0m\u001b[0;34m\u001b[0m\u001b[0;34m\u001b[0m\u001b[0m\n\u001b[0m\u001b[1;32m     81\u001b[0m \u001b[0;34m\u001b[0m\u001b[0m\n\u001b[1;32m     82\u001b[0m     \u001b[0;31m# Add photon rate and background rate to the reader here\u001b[0m\u001b[0;34m\u001b[0m\u001b[0;34m\u001b[0m\u001b[0;34m\u001b[0m\u001b[0m\n",
      "\u001b[0;32mh5py/_objects.pyx\u001b[0m in \u001b[0;36mh5py._objects.with_phil.wrapper\u001b[0;34m()\u001b[0m\n",
      "\u001b[0;32mh5py/_objects.pyx\u001b[0m in \u001b[0;36mh5py._objects.with_phil.wrapper\u001b[0;34m()\u001b[0m\n",
      "\u001b[0;32m/srv/conda/lib/python3.6/site-packages/h5py/_hl/group.py\u001b[0m in \u001b[0;36m__getitem__\u001b[0;34m(self, name)\u001b[0m\n\u001b[1;32m    260\u001b[0m                 \u001b[0;32mraise\u001b[0m \u001b[0mValueError\u001b[0m\u001b[0;34m(\u001b[0m\u001b[0;34m\"Invalid HDF5 object reference\"\u001b[0m\u001b[0;34m)\u001b[0m\u001b[0;34m\u001b[0m\u001b[0;34m\u001b[0m\u001b[0m\n\u001b[1;32m    261\u001b[0m         \u001b[0;32melse\u001b[0m\u001b[0;34m:\u001b[0m\u001b[0;34m\u001b[0m\u001b[0;34m\u001b[0m\u001b[0m\n\u001b[0;32m--> 262\u001b[0;31m             \u001b[0moid\u001b[0m \u001b[0;34m=\u001b[0m \u001b[0mh5o\u001b[0m\u001b[0;34m.\u001b[0m\u001b[0mopen\u001b[0m\u001b[0;34m(\u001b[0m\u001b[0mself\u001b[0m\u001b[0;34m.\u001b[0m\u001b[0mid\u001b[0m\u001b[0;34m,\u001b[0m \u001b[0mself\u001b[0m\u001b[0;34m.\u001b[0m\u001b[0m_e\u001b[0m\u001b[0;34m(\u001b[0m\u001b[0mname\u001b[0m\u001b[0;34m)\u001b[0m\u001b[0;34m,\u001b[0m \u001b[0mlapl\u001b[0m\u001b[0;34m=\u001b[0m\u001b[0mself\u001b[0m\u001b[0;34m.\u001b[0m\u001b[0m_lapl\u001b[0m\u001b[0;34m)\u001b[0m\u001b[0;34m\u001b[0m\u001b[0;34m\u001b[0m\u001b[0m\n\u001b[0m\u001b[1;32m    263\u001b[0m \u001b[0;34m\u001b[0m\u001b[0m\n\u001b[1;32m    264\u001b[0m         \u001b[0motype\u001b[0m \u001b[0;34m=\u001b[0m \u001b[0mh5i\u001b[0m\u001b[0;34m.\u001b[0m\u001b[0mget_type\u001b[0m\u001b[0;34m(\u001b[0m\u001b[0moid\u001b[0m\u001b[0;34m)\u001b[0m\u001b[0;34m\u001b[0m\u001b[0;34m\u001b[0m\u001b[0m\n",
      "\u001b[0;32mh5py/_objects.pyx\u001b[0m in \u001b[0;36mh5py._objects.with_phil.wrapper\u001b[0;34m()\u001b[0m\n",
      "\u001b[0;32mh5py/_objects.pyx\u001b[0m in \u001b[0;36mh5py._objects.with_phil.wrapper\u001b[0;34m()\u001b[0m\n",
      "\u001b[0;32mh5py/h5o.pyx\u001b[0m in \u001b[0;36mh5py.h5o.open\u001b[0;34m()\u001b[0m\n",
      "\u001b[0;31mKeyError\u001b[0m: \"Unable to open object (object 'photon_rate' doesn't exist)\""
     ]
    }
   ],
   "source": [
    "# Read in the data using the pandas reader in readers.py and take a look at the top few rows (change the number in head to increase this..\n",
    "\n",
    "dF03= rd.getATL03data(localFilePath, beamStr)\n",
    "dF03.head(5)"
   ]
  },
  {
   "cell_type": "code",
   "execution_count": null,
   "metadata": {},
   "outputs": [],
   "source": [
    "# Map the data for visual inspection using Cartopy \n",
    "# NB (Basemap is often used for mapping but is not being supported anymore)\n",
    "\n",
    "# Generate a shorted version for mapping purposes\n",
    "dF03short=dF03.iloc[::1000, :]\n",
    "dF03short.head(5)\n",
    "\n",
    "var='heights'\n",
    "\n",
    "plt.figure(figsize=(7,7), dpi= 90)\n",
    "# Make a new \"NorthPolarStereo\" projection instance\n",
    "ax = plt.axes(projection=ccrs.NorthPolarStereo(true_scale_latitude=70))\n",
    "plt.scatter(dF03short['lons'], dF03short['lats'],c=dF03short[var], cmap='viridis', transform=ccrs.PlateCarree())\n",
    "\n",
    "ax.coastlines()\n",
    "#ax.drawmeridians()\n",
    "plt.colorbar(label=var, shrink=0.5, extend='both')\n",
    "\n",
    "# Limit the map to -60 degrees latitude and below.\n",
    "ax.set_extent([-180, 180, 90, 60], ccrs.PlateCarree())"
   ]
  },
  {
   "cell_type": "code",
   "execution_count": null,
   "metadata": {
    "scrolled": true
   },
   "outputs": [],
   "source": [
    "# Plot these photon heights of this section\n",
    "# Could use seaborn for this (for one line plots) but using matplotlib for increased user flexibility.\n",
    "\n",
    "plt.figure(figsize=(12, 5))\n",
    "plt.plot(dF03['delta_time'],dF03['heights'], color='k', marker='.', linestyle='None', alpha=0.3)\n",
    "plt.xlabel('Delta time (s)')\n",
    "plt.ylabel('Photon heights (m)')\n",
    "plt.show()"
   ]
  },
  {
   "cell_type": "code",
   "execution_count": null,
   "metadata": {},
   "outputs": [],
   "source": [
    "# Plot the photon heights but use the signal confidence to label the markers.\n",
    "\n",
    "#dF = dF03[(dF['signal_confidence']>2)]\n",
    "#np.size(np.where(dF03['signal_confidence']==3))\n",
    "plt.figure(figsize=(12, 5))\n",
    "plt.plot(dF03[(dF03['signal_confidence']<2)]['delta_time'],dF03[(dF03['signal_confidence']<2)]['heights'], label='other', color='g', marker='.', linestyle='None', alpha=0.3)\n",
    "plt.plot(dF03[(dF03['signal_confidence']==2)]['delta_time'],dF03[(dF03['signal_confidence']==2)]['heights'], label='low', color='b', marker='.', linestyle='None', alpha=0.3)\n",
    "plt.plot(dF03[(dF03['signal_confidence']==3)]['delta_time'],dF03[(dF03['signal_confidence']==3)]['heights'], label='medium', color='c', marker='.', linestyle='None', alpha=0.1)\n",
    "plt.plot(dF03[(dF03['signal_confidence']==4)]['delta_time'],dF03[(dF03['signal_confidence']==4)]['heights'], label='high', color='m', marker='.', linestyle='None', alpha=0.1)\n",
    "plt.legend(loc=1)\n",
    "plt.xlabel('Delta time (s)')\n",
    "plt.ylabel('Photon heights (m)')\n",
    "plt.show()\n",
    "\n",
    "# Another (more elegant but less flexible) of doing a plot like this is using seaborn...\n",
    "#plt.figure(figsize=(12, 5))\n",
    "#sns.pairplot(x_vars=[\"delta_time\"], y_vars=[\"heights\"], data=dF03, \n",
    "#hue=\"signal_confidence\", size=5)\n",
    "#plt.gca().set_ylim((0, 50000))"
   ]
  },
  {
   "cell_type": "code",
   "execution_count": null,
   "metadata": {},
   "outputs": [],
   "source": [
    "# Basic filtering! \n",
    "# Note that for sea ice our task is easier than land ice, as we know our returns \n",
    "# should be coming from a narrow window around sea level\n",
    "\n",
    "# Now let's only keep the high confidence photons\n",
    "dF03ice = dF03[(dF03['signal_confidence']>3)]\n",
    "\n",
    "# ...and let's apply a hight window around the surface (WHAT IS THIS HEIGHT DEFINED RELATIVE TO IN ATL03)\n",
    "dF03ice = dF03ice[(abs(dF03ice['heights'])<100)]"
   ]
  },
  {
   "cell_type": "code",
   "execution_count": null,
   "metadata": {},
   "outputs": [],
   "source": [
    "# Plot the data like before\n",
    "\n",
    "plt.figure(figsize=(12, 5))\n",
    "plt.plot(dF03ice['delta_time'],dF03ice['heights'], label='high confidence surface returns', color='m', marker='.', linestyle='None', alpha=0.3)\n",
    "# plot a rolling mean of the photon heights. 150 photons is used in the generation of ATL07\n",
    "plt.plot(dF03ice['delta_time'].rolling(150).mean(),dF03ice['heights'].rolling(150).mean(), label='rolling mean (150 photon window)', color='k', linestyle='-', alpha=0.3)\n",
    "plt.legend(loc=2, frameon=False)\n",
    "plt.xlabel('Delta time (s)')\n",
    "plt.ylabel('Photon heights (m)')\n",
    "plt.show()"
   ]
  },
  {
   "cell_type": "code",
   "execution_count": null,
   "metadata": {},
   "outputs": [],
   "source": [
    "# We now need to make various corrections to convert these heights to a\n",
    "# reference sea surface, ocean tides, pole tide, dynamic atmosphere, geoid etc.\n"
   ]
  },
  {
   "cell_type": "code",
   "execution_count": null,
   "metadata": {},
   "outputs": [],
   "source": [
    "# Onwards to the ATL07 Notebook..."
   ]
  },
  {
   "cell_type": "code",
   "execution_count": null,
   "metadata": {},
   "outputs": [],
   "source": []
  }
 ],
 "metadata": {
  "kernelspec": {
   "display_name": "Python [conda env:root] *",
   "language": "python",
   "name": "conda-root-py"
  },
  "language_info": {
   "codemirror_mode": {
    "name": "ipython",
    "version": 3
   },
   "file_extension": ".py",
   "mimetype": "text/x-python",
   "name": "python",
   "nbconvert_exporter": "python",
   "pygments_lexer": "ipython3",
   "version": "3.6.7"
  }
 },
 "nbformat": 4,
 "nbformat_minor": 2
}
